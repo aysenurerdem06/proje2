{
  "nbformat": 4,
  "nbformat_minor": 0,
  "metadata": {
    "colab": {
      "provenance": [],
      "authorship_tag": "ABX9TyNuyR5tFll0g3XUwYQfT6TH",
      "include_colab_link": true
    },
    "kernelspec": {
      "name": "python3",
      "display_name": "Python 3"
    },
    "language_info": {
      "name": "python"
    }
  },
  "cells": [
    {
      "cell_type": "markdown",
      "metadata": {
        "id": "view-in-github",
        "colab_type": "text"
      },
      "source": [
        "<a href=\"https://colab.research.google.com/github/aysenurerdem06/proje2/blob/main/proje2.ipynb\" target=\"_parent\"><img src=\"https://colab.research.google.com/assets/colab-badge.svg\" alt=\"Open In Colab\"/></a>"
      ]
    },
    {
      "cell_type": "code",
      "execution_count": null,
      "metadata": {
        "id": "QXE97ToMLn8O"
      },
      "outputs": [],
      "source": [
        "# Anahtar kelimeleri tanımlama\n",
        "konu_basliklari = {\n",
        "    \"Siyaset\": [\"seçim\", \"hükümet\", \"politika\", \"yasalar\", \"parti\", \"lider\", \"demokrasi\", \"otorite\"],\n",
        "    \"Teknoloji\": [\"yazılım\", \"donanım\", \"internet\", \"inovasyon\", \"yapay zeka\", \"cihaz\", \"teknoloji\"],\n",
        "    \"Spor\": [\"futbol\", \"basketbol\", \"olimpiyat\", \"sporcu\", \"maç\", \"takım\", \"yarışma\"],\n",
        "    \"Sağlık\": [\"hastalık\", \"tedavi\", \"sağlık\", \"beslenme\", \"egzersiz\", \"ilaç\", \"tıbbi\"],\n",
        "    \"Eğlence\": [\"film\", \"müzik\", \"oyun\", \"konser\", \"etkinlik\", \"dizi\", \"eğlenceli\"]\n",
        "}\n",
        "\n",
        "def konu_bul(metin):\n",
        "    metin = metin.lower()  # Metni küçük harfe çevir\n",
        "    en_yuksek_skor = 0\n",
        "    en_uygun_konu = \"diğer konular\"\n",
        "\n",
        "    for konu, anahtar_kelimeler in konu_basliklari.items():\n",
        "        skor = sum(metin.count(kelime) for kelime in anahtar_kelimeler)\n",
        "        if skor > en_yuksek_skor:\n",
        "            en_yuksek_skor = skor\n",
        "            en_uygun_konu = konu\n",
        "\n",
        "    return en_uygun_konu\n",
        "\n",
        "# Kullanıcıdan metin alma\n",
        "metin = input(\"Bir metin girin: \")\n",
        "sonuc = konu_bul(metin)\n",
        "print(f\"Girilen metin '{sonuc}' konusuyla ilişkilidir.\")"
      ]
    }
  ]
}